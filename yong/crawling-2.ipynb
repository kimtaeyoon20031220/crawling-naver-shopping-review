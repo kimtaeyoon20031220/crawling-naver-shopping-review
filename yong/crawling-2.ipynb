{
 "cells": [
  {
   "cell_type": "code",
   "execution_count": 132,
   "metadata": {},
   "outputs": [],
   "source": [
    "import time\n",
    "import requests\n",
    "from time import sleep\n",
    "import re, requests, csv\n",
    "from bs4 import BeautifulSoup as bs\n",
    "from selenium.webdriver.common.keys import Keys\n",
    "import pandas as pd\n",
    "from selenium import webdriver\n",
    "keys = Keys()"
   ]
  },
  {
   "cell_type": "code",
   "execution_count": 133,
   "metadata": {},
   "outputs": [],
   "source": [
    "from selenium.webdriver.common.by import By"
   ]
  },
  {
   "cell_type": "code",
   "execution_count": 134,
   "metadata": {},
   "outputs": [],
   "source": [
    "next_btn = []\n",
    "for i in range(2, 12):\n",
    "    next_btn.append(f'a:nth-child({i})')\n",
    "next_btn.append(\"a.fAUKm1ewwo._2Ar8-aEUTq\")"
   ]
  },
  {
   "cell_type": "code",
   "execution_count": 213,
   "metadata": {},
   "outputs": [],
   "source": [
    "def get_reviews(address, stop):\n",
    "    driver = webdriver.Chrome()\n",
    "    chromeOptions = webdriver.ChromeOptions()\n",
    "    chromeOptions.add_argument(\"--hide-scrollbars\")\n",
    "    driver.get(address)\n",
    "    page = requests.get(address)\n",
    "\n",
    "    # stop이 총 리뷰 수보다 많다면, 총 리뷰 수로 계산하기\n",
    "\n",
    "    print(f\"{address} 페이지 리뷰 크롤링을 시작합니다.\")\n",
    "\n",
    "    count = 0\n",
    "\n",
    "    review_list = []\n",
    "\n",
    "    driver.implicitly_wait(3)\n",
    "    \n",
    "    # 리뷰 보기 버튼 클릭\n",
    "    el = driver.find_element(By.CSS_SELECTOR, '#content > div > div.z7cS6-TO7X > div._27jmWaPaKy > ul > li:nth-child(2) > a')\n",
    "    actions = webdriver.ActionChains(driver).move_to_element(el).click().perform()\n",
    "    print(\"리뷰 창으로 넘어감\")\n",
    "    time.sleep(10)\n",
    "\n",
    "    # 리뷰 낮은 순 보기 버튼 클릭\n",
    "    el = driver.find_element(By.XPATH, '//*[@id=\"REVIEW\"]/div/div[3]/div[1]/div[1]/ul/li[4]/a')\n",
    "    actions = webdriver.ActionChains(driver).move_to_element(el).perform()\n",
    "    actions2 = webdriver.ActionChains(driver).send_keys(Keys.ARROW_DOWN).perform()\n",
    "    el.send_keys(Keys.ENTER)\n",
    "    print(\"리뷰 낮은 순으로 정렬\")\n",
    "    time.sleep(3)\n",
    "\n",
    "    while (len(review_list) < stop):\n",
    "        if (count % 20 == 0):\n",
    "            el = driver.find_element(By.CSS_SELECTOR, \"#REVIEW > div > div._180GG7_7yx > div.cv6id6JEkg > div > div > \" + str(next_btn[(count // 20) % 11]) + '') # 리뷰 인덱스 페이지 이동\n",
    "            actions = webdriver.ActionChains(driver).move_to_element(el)\n",
    "            driver.implicitly_wait(3)\n",
    "            actions.perform()\n",
    "            el.click()\n",
    "            time.sleep(2)\n",
    "            html = driver.page_source\n",
    "            soup = bs(html, \"html.parser\")\n",
    "            reviews = soup.find_all('div', class_='YEtwtZFLDz')\n",
    "            print(f\"불러온 리뷰 : {len(reviews)}개\")\n",
    "        review = reviews[count % 20].text\n",
    "        review = re.sub('[^#0-9a-zA-Zㄱ-ㅣ가-힣 ]', \"\", review)\n",
    "        if (\"더보기\" in review):\n",
    "            review = soup.find_all('div', class_=\"YEtwtZFLDz.vlXMQEAtPR\")\n",
    "            review = review[count % 20].text\n",
    "            review = re.sub('[^#0-9a-zA-Zㄱ-ㅣ가-힣 ]', \"\", review)\n",
    "        review_list.append(review)\n",
    "        count = count + 1\n",
    "        print(f'{count}번째 리뷰 가져옴')\n",
    "    driver.quit()\n",
    "    return review_list"
   ]
  },
  {
   "cell_type": "code",
   "execution_count": 197,
   "metadata": {},
   "outputs": [],
   "source": [
    "PAGES = ['https://brand.naver.com/skinfood/products/7926935977',\n",
    "        'https://smartstore.naver.com/kikoluggage/products/6399548845?n_media=11068&n_query=%EA%B8%B0%EB%82%B4%EC%9A%A9%EC%BA%90%EB%A6%AC%EC%96%B4&n_rank=1&n_ad_group=grp-a001-02-000000033272787&n_ad=nad-a001-02-000000235065323&n_campaign_type=2&n_mall_id=shc2016&n_mall_pid=6399548845&n_ad_group_type=2&n_match=3'\n",
    "         ]"
   ]
  },
  {
   "cell_type": "code",
   "execution_count": 214,
   "metadata": {},
   "outputs": [
    {
     "name": "stdout",
     "output_type": "stream",
     "text": [
      "https://brand.naver.com/skinfood/products/7926935977 페이지 리뷰 크롤링을 시작합니다.\n",
      "리뷰 창으로 넘어감\n",
      "리뷰 낮은 순으로 정렬\n",
      "불러온 리뷰 : 20개\n",
      "1번째 리뷰 가져옴\n",
      "2번째 리뷰 가져옴\n",
      "3번째 리뷰 가져옴\n",
      "4번째 리뷰 가져옴\n",
      "5번째 리뷰 가져옴\n",
      "6번째 리뷰 가져옴\n",
      "7번째 리뷰 가져옴\n",
      "8번째 리뷰 가져옴\n",
      "9번째 리뷰 가져옴\n",
      "10번째 리뷰 가져옴\n",
      "11번째 리뷰 가져옴\n",
      "12번째 리뷰 가져옴\n",
      "13번째 리뷰 가져옴\n",
      "14번째 리뷰 가져옴\n",
      "15번째 리뷰 가져옴\n",
      "16번째 리뷰 가져옴\n",
      "17번째 리뷰 가져옴\n",
      "18번째 리뷰 가져옴\n",
      "19번째 리뷰 가져옴\n",
      "20번째 리뷰 가져옴\n",
      "불러온 리뷰 : 20개\n",
      "21번째 리뷰 가져옴\n",
      "22번째 리뷰 가져옴\n",
      "23번째 리뷰 가져옴\n",
      "24번째 리뷰 가져옴\n",
      "25번째 리뷰 가져옴\n",
      "26번째 리뷰 가져옴\n",
      "27번째 리뷰 가져옴\n",
      "28번째 리뷰 가져옴\n",
      "29번째 리뷰 가져옴\n",
      "30번째 리뷰 가져옴\n",
      "https://smartstore.naver.com/kikoluggage/products/6399548845?n_media=11068&n_query=%EA%B8%B0%EB%82%B4%EC%9A%A9%EC%BA%90%EB%A6%AC%EC%96%B4&n_rank=1&n_ad_group=grp-a001-02-000000033272787&n_ad=nad-a001-02-000000235065323&n_campaign_type=2&n_mall_id=shc2016&n_mall_pid=6399548845&n_ad_group_type=2&n_match=3 페이지 리뷰 크롤링을 시작합니다.\n",
      "리뷰 창으로 넘어감\n",
      "리뷰 낮은 순으로 정렬\n",
      "불러온 리뷰 : 20개\n",
      "1번째 리뷰 가져옴\n",
      "2번째 리뷰 가져옴\n",
      "3번째 리뷰 가져옴\n",
      "4번째 리뷰 가져옴\n",
      "5번째 리뷰 가져옴\n",
      "6번째 리뷰 가져옴\n",
      "7번째 리뷰 가져옴\n",
      "8번째 리뷰 가져옴\n",
      "9번째 리뷰 가져옴\n",
      "10번째 리뷰 가져옴\n",
      "11번째 리뷰 가져옴\n",
      "12번째 리뷰 가져옴\n",
      "13번째 리뷰 가져옴\n",
      "14번째 리뷰 가져옴\n",
      "15번째 리뷰 가져옴\n",
      "16번째 리뷰 가져옴\n",
      "17번째 리뷰 가져옴\n",
      "18번째 리뷰 가져옴\n",
      "19번째 리뷰 가져옴\n",
      "20번째 리뷰 가져옴\n",
      "불러온 리뷰 : 20개\n",
      "21번째 리뷰 가져옴\n",
      "22번째 리뷰 가져옴\n",
      "23번째 리뷰 가져옴\n",
      "24번째 리뷰 가져옴\n",
      "25번째 리뷰 가져옴\n",
      "26번째 리뷰 가져옴\n",
      "27번째 리뷰 가져옴\n",
      "28번째 리뷰 가져옴\n",
      "29번째 리뷰 가져옴\n",
      "30번째 리뷰 가져옴\n"
     ]
    }
   ],
   "source": [
    "review_pages = {}\n",
    "for i in PAGES:\n",
    "    review_pages[i] = get_reviews(i, 30)"
   ]
  },
  {
   "cell_type": "code",
   "execution_count": 216,
   "metadata": {},
   "outputs": [
    {
     "name": "stdout",
     "output_type": "stream",
     "text": [
      "['한달사용기도토리 패드는 여드름 피부 적합하지 않습니다 끈적이는 느낌이 많아서 당근패드와 같은 산뜻함이 없어서 여드름에 악영향인 것 같아 사용을 중단했습니다', '한달사용기재주문은 안할 겁니다', '한달사용기정말 별로예요 당근패드가 나아요 솜털이 묻어나서 할때마다 피부 정돈을 또 해야해요', '한달사용기당근패드 사면서 도토리도 사 봤는데이거 별루예요보플떼기 심해요ㅠㅠ닦아내면 피부 쓸리고 아프고따갑고꾹꾹 눌러 흡수 시켜도 솜 보플 일어나 얼굴에 덕지덕ㅈ 묻어요', '저 뿐만이 아니라 다들 사은품 못 받으셨네요종종 할인 되서 올라오는 가격에 사은품 증정을 크게 내세워 6만원이상 구매 했는데 상술이였네요네 앞으로 여기거 안쓰면 됩니다비슷한 핫딜가로 종종 구매 했을 때는 하다못해 샘플증정이나 케이스라도 주었는데이번에는 배송지연도 엄청 기다리게 하고 구매한 상품 6통 택배 상자에 제각각 굴러다녀 상자조차 찌그러졌네요하다못해 백화점에서 썬크림하나 사도 주는 샘플 포장도 참 어이없고 브랜드 데이에 정 떨어지게 해주시니 안쓰고 안사면 됩니다', '배송엄청느리네요 15일주문 이제받았고 사은품 품절이라며 주지도않네요', '한달사용기와 이거 쓰고 저 좁쌀여드름 진짜 많이나고 피부 완전 뒤집어졌오요 믿고 구매했는데 대대실망', '다음날 직진배송이라 구매했는데 한참을 안와서 문의하니 배송사고 ㅜ ㅜ연락도안주시고 2주만에 받았는데 그저그래요', '한달사용기얼굴에 자극적이라 바디에 닦아봤는데패드가 튼튼하지않아요', '도토리패드는 당근패드와 다르게 두툼해요 반 잘라서 써야 하지 뜯을려고 하니까 안뜯어져서 한장 올려서 써요 두툼하고 무슨 옥수수재질로 만든거같아요 그리고 부드럽지 않아요 역시 당근패드가 훨 나아요 저렴하게 샀지만 도토리패드 궁금했는데 해결됐네요', '한달사용기어우 이거 제가 받은것만 그랬는지 몰라도 액체도 안에 없고 솜도 다 일어나는 재질이라 쓸고나면 얼굴에 솜이 조금씩 묻어서 너무너무 화났어요 촉촉하지도 않아서 다시는 재구매안하려고요ㅠ', '한달사용기당근패드가 더 촉촉하고 이건 그닥 모르겠어요얼굴에 불긋하게 자꾸 올라와서 못쓰고 있어요', '한달사용기다른 패드에 비해 촉촉함이 부족해요 역시 당근패드가저한테는 잘맞습니다 탄력이나 모공케어도 효과 없음요 ㅠㅠ', '한달사용기닦토 용으로도 애매 마스크팩으로도 애매 그저 애매한 상품 당근패드는 트러블이나 수분감이 모자랄때 계속 손이가는데 얘는 솔직히 손이 잘 안가요 솜이 좀 굴곡이 있었으면 차라리 닦토 모공정리용으로도 썼을텐데 솜이 너무 부들부들', '촉촉해서 만족했는데 다음날 이거 쓰고 화농성이 막 났어요', '새로 나와서 구매 해봤어요 근데 판토테닉 패드가 더 나은거 같은 느낌여요', '20쿠폰 다운받기 전에 구매해서 할인 못받았어요N도착 상품이라 취소를 못했네요당근 파슬리 다 써봤는데 이건 어떨지 궁금합니다', '한달사용기패드솜이 일어나는거 빼곤 좋아요', '한달사용기효과는 잘 모르겠어요 패드가 두톰해서 반 나눠서 양쪽 볼에 올릴수 있다는 점 잘 쓰고 있어요', '한달사용기생각보다는 효과를 잘 모르겠고 건조하신 분 말고는 딥하게 느낄거같아료', '한달사용기깨끗하게 피부를 정리한 느낌이라좋아요', '끈적임이 있지만 촉촉해용', '한달사용기당근패드 쓰다가 여름이라 모공이 너무 넓어지는 느낌이라 도토리로 써봤는데당근패드에 비해서 보풀이 너무 잘 일어나요 패드가 너무 약하다고 해야하나', '한달사용기조금끈덕진데 밤에쓰면 ㄱㅊ', '촉촉하긴한데 패드 재질이 조금 별로네요', '한달사용기당근패드가 좋아서도토리패드도 구매해봤는데쏘쏘입니다', '한달사용기당근패드쓰다가 여름이고해서 모공수축기능에이콘 패드써봤는데 건조한듯해요', '한달사용기당근과 미리나 딱 중간인듯해요', '배송 진짜 빨랐고 하루 밖에 사용을 안해봐서 아직은 잘 모르지만 효과가 좋았으면 좋겠네요 ㅎ', '한달사용기나쁘지 않은데 당근패드가 더 좋은듯 해요 촉촉함은 좋은데 패드 자체가 보풀 같은게 많이 일어나요 ㅠㅠ 그래서 팩처럼 얼굴에 붙이고 나면 마른후에 하얀 보풀이 얼굴에 많이 일어나네요  특히 반으로 나눠서 양쪽 얼굴에 붙이기에도 당근이 훨씬 낫네요  촉촉하긴한데  당근패드에 사용하는 패드랑은 약간 다른듯 해요  당근은 괜찮거든용 ㅠㅠ개인적으로 두번은 구매 안할듯 합니당 ㅎㅎ패드가 개선되면 재구매 의사는 있습니다 ']\n"
     ]
    }
   ],
   "source": [
    "print(review_pages[PAGES[0]])"
   ]
  }
 ],
 "metadata": {
  "kernelspec": {
   "display_name": "base",
   "language": "python",
   "name": "python3"
  },
  "language_info": {
   "codemirror_mode": {
    "name": "ipython",
    "version": 3
   },
   "file_extension": ".py",
   "mimetype": "text/x-python",
   "name": "python",
   "nbconvert_exporter": "python",
   "pygments_lexer": "ipython3",
   "version": "3.9.7"
  },
  "orig_nbformat": 4
 },
 "nbformat": 4,
 "nbformat_minor": 2
}
