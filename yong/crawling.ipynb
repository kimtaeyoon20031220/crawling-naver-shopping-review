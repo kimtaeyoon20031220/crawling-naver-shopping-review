{
 "cells": [
  {
   "cell_type": "code",
   "execution_count": 13,
   "metadata": {},
   "outputs": [],
   "source": [
    "from selenium import webdriver\n",
    "from selenium.webdriver.common.keys import Keys\n",
    "from bs4 import BeautifulSoup\n",
    "from time import sleep\n",
    "import requests\n",
    "import re\n",
    "import pandas as pd\n",
    "import numpy as np\n",
    "import os\n",
    "from selenium.webdriver.common.by import By\n",
    "\n",
    "import warnings\n",
    "\n",
    "warnings.filterwarnings('ignore')"
   ]
  },
  {
   "cell_type": "code",
   "execution_count": 5,
   "metadata": {},
   "outputs": [],
   "source": [
    "name=['LG 에어로타워']\n",
    "category=['별점']\n",
    "\n",
    "#LG 에어로타워 후기\n",
    "ns_address=\"https://search.shopping.naver.com/catalog/30128278618?cat_id=50002543&frm=NVSCPRO&query=%EC%97%90%EC%96%B4%EB%A1%9C%ED%83%80%EC%9B%8C&NaPm=ct%3Dl0ksn0vc%7Cci%3D5bbd25c0299ce5dbcb72ff2b1d41488ebd6d52ce%7Ctr%3Dsls%7Csn%3D95694%7Chk%3D87194ce8ced4cb2b52968022b8eb9db67602d12e\"\n",
    "#xpath\n",
    "shoppingmall_review=\"/html/body/div/div/div[2]/div[2]/div[2]/div[3]/div[6]/ul\""
   ]
  },
  {
   "cell_type": "code",
   "execution_count": 15,
   "metadata": {},
   "outputs": [],
   "source": [
    "header = {'User-Agent': ''}\n",
    "d = webdriver.Chrome() # webdriver = chrome\n",
    "d.implicitly_wait(3)\n",
    "d.get(ns_address)\n",
    "req = requests.get(ns_address,verify=False)\n",
    "html = req.text \n",
    "soup = BeautifulSoup(html, \"html.parser\")\n",
    "sleep(2)\n",
    "\n",
    "#쇼핑몰 리뷰 보기\n",
    "d.find_element(By.XPATH, shoppingmall_review).click()\n",
    "sleep(2)\n",
    "\n",
    "element=d.find_element(By.XPATH, shoppingmall_review)\n",
    "d.execute_script(\"arguments[0].click();\", element)\n",
    "sleep(2)"
   ]
  },
  {
   "cell_type": "code",
   "execution_count": 16,
   "metadata": {},
   "outputs": [],
   "source": [
    "def add_dataframe(name,category,reviews,stars,cnt):  #데이터 프레임에 저장\n",
    "    #데이터 프레임생성\n",
    "    df1=pd.DataFrame(columns=['type','category','review','star'])\n",
    "    n=1\n",
    "    if (cnt>0):\n",
    "        for i in range(0,cnt-1):\n",
    "            df1.loc[n]=[name,category,reviews[i],stars[i]] #해당 행에 저장\n",
    "            i+=1\n",
    "            n+=1\n",
    "    else:\n",
    "        df1.loc[n]=[name,category,'null','null']\n",
    "        n+=1    \n",
    "    return df1"
   ]
  },
  {
   "cell_type": "code",
   "execution_count": 18,
   "metadata": {},
   "outputs": [],
   "source": [
    "d.find_element(By.XPATH, shoppingmall_review).click() #스크롤 건드리면 안됨\n",
    "name_=name[0]\n",
    "category_=category[0]\n",
    "reviews=[]\n",
    "stars=[]\n",
    "cnt=1   #리뷰index\n",
    "page=1"
   ]
  },
  {
   "cell_type": "code",
   "execution_count": 21,
   "metadata": {},
   "outputs": [
    {
     "name": "stdout",
     "output_type": "stream",
     "text": [
      "페이지 1 \n",
      "\n"
     ]
    }
   ],
   "source": [
    "while True:\n",
    "    j=1\n",
    "    print (\"페이지\", page ,\"\\n\") \n",
    "    sleep(2)\n",
    "    while True: #한페이지에 20개의 리뷰, 마지막 리뷰에서 error발생\n",
    "        try:\n",
    "            star=d.find_element_by_xpath('/html/body/div/div/div[2]/div[2]/div[2]/div[3]/div[6]/ul/li[1]/div[1]/span[1]').text\n",
    "            stars.append(star)\n",
    "            review=d.find_element_by_xpath('/html/body/div/div/div[2]/div[2]/div[2]/div[3]/div[6]/ul/li['+str(j)+']/div[2]/div[1]').text\n",
    "            reviews.append(review)\n",
    "            if j%2==0: #화면에 2개씩 보이도록 스크롤\n",
    "                ELEMENT = d.find_element_by_xpath('/html/body/div/div/div[2]/div[2]/div[2]/div[3]/div[6]/ul/li['+str(j)+']/div[2]/div[1]')\n",
    "                d.execute_script(\"arguments[0].scrollIntoView(true);\", ELEMENT)       \n",
    "            j+=1\n",
    "            print(cnt, review ,star, \"\\n\")\n",
    "            cnt+=1 \n",
    "        except: break\n",
    "            \n",
    "    sleep(2)\n",
    "    \n",
    "    if page<11:#page10\n",
    "        try: #리뷰의 마지막 페이지에서 error발생\n",
    "            page +=1\n",
    "            next_page=d.find_element_by_xpath('/html/body/div/div/div[2]/div[2]/div[2]/div[3]/div[6]/div[3]/a['+str(page)+']').click() \n",
    "            \n",
    "        except: break #리뷰의 마지막 페이지에서 process 종료\n",
    "    else : \n",
    "        try: #page11부터\n",
    "            page+=1\n",
    "            if page%10==0: next_page=d.find_element_by_xpath('/html/body/div/div/div[2]/div[2]/div[2]/div[3]/div[6]/div[3]/a[11]').click()\n",
    "            else : next_page=d.find_element_by_xpath('/html/body/div/div/div[2]/div[2]/div[2]/div[3]/div[6]/div[3]/a['+str(page%10+2)+']').click()\n",
    "            \n",
    "        except: break\n",
    "            \n",
    "\n",
    "df4=add_dataframe(name_,category_,reviews,stars,cnt)\n",
    "#save()"
   ]
  }
 ],
 "metadata": {
  "kernelspec": {
   "display_name": "base",
   "language": "python",
   "name": "python3"
  },
  "language_info": {
   "codemirror_mode": {
    "name": "ipython",
    "version": 3
   },
   "file_extension": ".py",
   "mimetype": "text/x-python",
   "name": "python",
   "nbconvert_exporter": "python",
   "pygments_lexer": "ipython3",
   "version": "3.9.7"
  },
  "orig_nbformat": 4
 },
 "nbformat": 4,
 "nbformat_minor": 2
}
